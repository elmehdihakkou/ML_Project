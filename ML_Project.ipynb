{
 "cells": [
  {
   "cell_type": "code",
   "execution_count": null,
   "id": "b8bfd72b",
   "metadata": {},
   "outputs": [],
   "source": []
  },
  {
   "cell_type": "markdown",
   "id": "8d5483ca",
   "metadata": {},
   "source": [
    "### Importation des bibliothèques pour explorer les données:"
   ]
  },
  {
   "cell_type": "code",
   "execution_count": 1,
   "id": "a8bd6ca6",
   "metadata": {},
   "outputs": [],
   "source": [
    "import numpy as np\n",
    "import pandas as pd\n",
    "import seaborn as sb\n",
    "import matplotlib.pyplot as plt"
   ]
  },
  {
   "cell_type": "markdown",
   "id": "79619c24",
   "metadata": {},
   "source": [
    "### Lecture du dataset dans la variable data"
   ]
  },
  {
   "cell_type": "code",
   "execution_count": 2,
   "id": "9ddefb30",
   "metadata": {},
   "outputs": [],
   "source": [
    "data = pd.read_csv(\"data/original.csv\")"
   ]
  },
  {
   "cell_type": "markdown",
   "id": "76a3c8bc",
   "metadata": {},
   "source": [
    "### Affichage du dataset"
   ]
  },
  {
   "cell_type": "code",
   "execution_count": 3,
   "id": "78314460",
   "metadata": {},
   "outputs": [
    {
     "data": {
      "text/html": [
       "<div>\n",
       "<style scoped>\n",
       "    .dataframe tbody tr th:only-of-type {\n",
       "        vertical-align: middle;\n",
       "    }\n",
       "\n",
       "    .dataframe tbody tr th {\n",
       "        vertical-align: top;\n",
       "    }\n",
       "\n",
       "    .dataframe thead th {\n",
       "        text-align: right;\n",
       "    }\n",
       "</style>\n",
       "<table border=\"1\" class=\"dataframe\">\n",
       "  <thead>\n",
       "    <tr style=\"text-align: right;\">\n",
       "      <th></th>\n",
       "      <th>clientid</th>\n",
       "      <th>income</th>\n",
       "      <th>age</th>\n",
       "      <th>loan</th>\n",
       "      <th>default</th>\n",
       "    </tr>\n",
       "  </thead>\n",
       "  <tbody>\n",
       "    <tr>\n",
       "      <th>0</th>\n",
       "      <td>1</td>\n",
       "      <td>66155.925095</td>\n",
       "      <td>59.017015</td>\n",
       "      <td>8106.532131</td>\n",
       "      <td>0</td>\n",
       "    </tr>\n",
       "    <tr>\n",
       "      <th>1</th>\n",
       "      <td>2</td>\n",
       "      <td>34415.153966</td>\n",
       "      <td>48.117153</td>\n",
       "      <td>6564.745018</td>\n",
       "      <td>0</td>\n",
       "    </tr>\n",
       "    <tr>\n",
       "      <th>2</th>\n",
       "      <td>3</td>\n",
       "      <td>57317.170063</td>\n",
       "      <td>63.108049</td>\n",
       "      <td>8020.953296</td>\n",
       "      <td>0</td>\n",
       "    </tr>\n",
       "    <tr>\n",
       "      <th>3</th>\n",
       "      <td>4</td>\n",
       "      <td>42709.534201</td>\n",
       "      <td>45.751972</td>\n",
       "      <td>6103.642260</td>\n",
       "      <td>0</td>\n",
       "    </tr>\n",
       "    <tr>\n",
       "      <th>4</th>\n",
       "      <td>5</td>\n",
       "      <td>66952.688845</td>\n",
       "      <td>18.584336</td>\n",
       "      <td>8770.099235</td>\n",
       "      <td>1</td>\n",
       "    </tr>\n",
       "    <tr>\n",
       "      <th>...</th>\n",
       "      <td>...</td>\n",
       "      <td>...</td>\n",
       "      <td>...</td>\n",
       "      <td>...</td>\n",
       "      <td>...</td>\n",
       "    </tr>\n",
       "    <tr>\n",
       "      <th>1995</th>\n",
       "      <td>1996</td>\n",
       "      <td>59221.044874</td>\n",
       "      <td>48.518179</td>\n",
       "      <td>1926.729397</td>\n",
       "      <td>0</td>\n",
       "    </tr>\n",
       "    <tr>\n",
       "      <th>1996</th>\n",
       "      <td>1997</td>\n",
       "      <td>69516.127573</td>\n",
       "      <td>23.162104</td>\n",
       "      <td>3503.176156</td>\n",
       "      <td>0</td>\n",
       "    </tr>\n",
       "    <tr>\n",
       "      <th>1997</th>\n",
       "      <td>1998</td>\n",
       "      <td>44311.449262</td>\n",
       "      <td>28.017167</td>\n",
       "      <td>5522.786693</td>\n",
       "      <td>1</td>\n",
       "    </tr>\n",
       "    <tr>\n",
       "      <th>1998</th>\n",
       "      <td>1999</td>\n",
       "      <td>43756.056605</td>\n",
       "      <td>63.971796</td>\n",
       "      <td>1622.722598</td>\n",
       "      <td>0</td>\n",
       "    </tr>\n",
       "    <tr>\n",
       "      <th>1999</th>\n",
       "      <td>2000</td>\n",
       "      <td>69436.579552</td>\n",
       "      <td>56.152617</td>\n",
       "      <td>7378.833599</td>\n",
       "      <td>0</td>\n",
       "    </tr>\n",
       "  </tbody>\n",
       "</table>\n",
       "<p>2000 rows × 5 columns</p>\n",
       "</div>"
      ],
      "text/plain": [
       "      clientid        income        age         loan  default\n",
       "0            1  66155.925095  59.017015  8106.532131        0\n",
       "1            2  34415.153966  48.117153  6564.745018        0\n",
       "2            3  57317.170063  63.108049  8020.953296        0\n",
       "3            4  42709.534201  45.751972  6103.642260        0\n",
       "4            5  66952.688845  18.584336  8770.099235        1\n",
       "...        ...           ...        ...          ...      ...\n",
       "1995      1996  59221.044874  48.518179  1926.729397        0\n",
       "1996      1997  69516.127573  23.162104  3503.176156        0\n",
       "1997      1998  44311.449262  28.017167  5522.786693        1\n",
       "1998      1999  43756.056605  63.971796  1622.722598        0\n",
       "1999      2000  69436.579552  56.152617  7378.833599        0\n",
       "\n",
       "[2000 rows x 5 columns]"
      ]
     },
     "execution_count": 3,
     "metadata": {},
     "output_type": "execute_result"
    }
   ],
   "source": [
    "data"
   ]
  },
  {
   "cell_type": "markdown",
   "id": "14210586",
   "metadata": {},
   "source": [
    "### Quelques informations sur le dataset\n"
   ]
  },
  {
   "cell_type": "code",
   "execution_count": 4,
   "id": "054d43ef",
   "metadata": {},
   "outputs": [
    {
     "name": "stdout",
     "output_type": "stream",
     "text": [
      "<class 'pandas.core.frame.DataFrame'>\n",
      "RangeIndex: 2000 entries, 0 to 1999\n",
      "Data columns (total 5 columns):\n",
      " #   Column    Non-Null Count  Dtype  \n",
      "---  ------    --------------  -----  \n",
      " 0   clientid  2000 non-null   int64  \n",
      " 1   income    2000 non-null   float64\n",
      " 2   age       1997 non-null   float64\n",
      " 3   loan      2000 non-null   float64\n",
      " 4   default   2000 non-null   int64  \n",
      "dtypes: float64(3), int64(2)\n",
      "memory usage: 78.2 KB\n"
     ]
    }
   ],
   "source": [
    "data.info()"
   ]
  },
  {
   "cell_type": "markdown",
   "id": "f8ff13b1",
   "metadata": {},
   "source": [
    "Nous observons que toutes les colonnes ne comportent pas de données manquantes sauf la colonne \"age\" qui contient 3 valeurs nullles. Nous allons ces lignes qui contiennent ces valeurs nulles étant donné qu'elles ne représentent que 0,0015% de notre dataset, ainsi elles n'auront pas d'impact sur notre modèle."
   ]
  },
  {
   "cell_type": "markdown",
   "id": "4d62d372",
   "metadata": {},
   "source": [
    "La variable qui nous intéresse (en d'autres termes notre \"target\") est la variable default qui montre si l'individu est un bon client (default=0) ou pas (default=1)."
   ]
  },
  {
   "cell_type": "markdown",
   "id": "7f91f455",
   "metadata": {},
   "source": [
    "### Limitons-nous maintenant aux variables explicatives seulement"
   ]
  },
  {
   "cell_type": "code",
   "execution_count": 5,
   "id": "3940b185",
   "metadata": {},
   "outputs": [],
   "source": [
    "exp_vars = data[['income','age','loan']]"
   ]
  },
  {
   "cell_type": "code",
   "execution_count": 6,
   "id": "16ddfc4d",
   "metadata": {},
   "outputs": [
    {
     "data": {
      "text/html": [
       "<div>\n",
       "<style scoped>\n",
       "    .dataframe tbody tr th:only-of-type {\n",
       "        vertical-align: middle;\n",
       "    }\n",
       "\n",
       "    .dataframe tbody tr th {\n",
       "        vertical-align: top;\n",
       "    }\n",
       "\n",
       "    .dataframe thead th {\n",
       "        text-align: right;\n",
       "    }\n",
       "</style>\n",
       "<table border=\"1\" class=\"dataframe\">\n",
       "  <thead>\n",
       "    <tr style=\"text-align: right;\">\n",
       "      <th></th>\n",
       "      <th>income</th>\n",
       "      <th>age</th>\n",
       "      <th>loan</th>\n",
       "    </tr>\n",
       "  </thead>\n",
       "  <tbody>\n",
       "    <tr>\n",
       "      <th>0</th>\n",
       "      <td>66155.925095</td>\n",
       "      <td>59.017015</td>\n",
       "      <td>8106.532131</td>\n",
       "    </tr>\n",
       "    <tr>\n",
       "      <th>1</th>\n",
       "      <td>34415.153966</td>\n",
       "      <td>48.117153</td>\n",
       "      <td>6564.745018</td>\n",
       "    </tr>\n",
       "    <tr>\n",
       "      <th>2</th>\n",
       "      <td>57317.170063</td>\n",
       "      <td>63.108049</td>\n",
       "      <td>8020.953296</td>\n",
       "    </tr>\n",
       "    <tr>\n",
       "      <th>3</th>\n",
       "      <td>42709.534201</td>\n",
       "      <td>45.751972</td>\n",
       "      <td>6103.642260</td>\n",
       "    </tr>\n",
       "    <tr>\n",
       "      <th>4</th>\n",
       "      <td>66952.688845</td>\n",
       "      <td>18.584336</td>\n",
       "      <td>8770.099235</td>\n",
       "    </tr>\n",
       "    <tr>\n",
       "      <th>...</th>\n",
       "      <td>...</td>\n",
       "      <td>...</td>\n",
       "      <td>...</td>\n",
       "    </tr>\n",
       "    <tr>\n",
       "      <th>1995</th>\n",
       "      <td>59221.044874</td>\n",
       "      <td>48.518179</td>\n",
       "      <td>1926.729397</td>\n",
       "    </tr>\n",
       "    <tr>\n",
       "      <th>1996</th>\n",
       "      <td>69516.127573</td>\n",
       "      <td>23.162104</td>\n",
       "      <td>3503.176156</td>\n",
       "    </tr>\n",
       "    <tr>\n",
       "      <th>1997</th>\n",
       "      <td>44311.449262</td>\n",
       "      <td>28.017167</td>\n",
       "      <td>5522.786693</td>\n",
       "    </tr>\n",
       "    <tr>\n",
       "      <th>1998</th>\n",
       "      <td>43756.056605</td>\n",
       "      <td>63.971796</td>\n",
       "      <td>1622.722598</td>\n",
       "    </tr>\n",
       "    <tr>\n",
       "      <th>1999</th>\n",
       "      <td>69436.579552</td>\n",
       "      <td>56.152617</td>\n",
       "      <td>7378.833599</td>\n",
       "    </tr>\n",
       "  </tbody>\n",
       "</table>\n",
       "<p>2000 rows × 3 columns</p>\n",
       "</div>"
      ],
      "text/plain": [
       "            income        age         loan\n",
       "0     66155.925095  59.017015  8106.532131\n",
       "1     34415.153966  48.117153  6564.745018\n",
       "2     57317.170063  63.108049  8020.953296\n",
       "3     42709.534201  45.751972  6103.642260\n",
       "4     66952.688845  18.584336  8770.099235\n",
       "...            ...        ...          ...\n",
       "1995  59221.044874  48.518179  1926.729397\n",
       "1996  69516.127573  23.162104  3503.176156\n",
       "1997  44311.449262  28.017167  5522.786693\n",
       "1998  43756.056605  63.971796  1622.722598\n",
       "1999  69436.579552  56.152617  7378.833599\n",
       "\n",
       "[2000 rows x 3 columns]"
      ]
     },
     "execution_count": 6,
     "metadata": {},
     "output_type": "execute_result"
    }
   ],
   "source": [
    "exp_vars"
   ]
  },
  {
   "cell_type": "markdown",
   "id": "6f023026",
   "metadata": {},
   "source": [
    "### Détails sur le dataset contenant les variables explicatives"
   ]
  },
  {
   "cell_type": "code",
   "execution_count": 7,
   "id": "1ef4d322",
   "metadata": {},
   "outputs": [
    {
     "data": {
      "text/html": [
       "<div>\n",
       "<style scoped>\n",
       "    .dataframe tbody tr th:only-of-type {\n",
       "        vertical-align: middle;\n",
       "    }\n",
       "\n",
       "    .dataframe tbody tr th {\n",
       "        vertical-align: top;\n",
       "    }\n",
       "\n",
       "    .dataframe thead th {\n",
       "        text-align: right;\n",
       "    }\n",
       "</style>\n",
       "<table border=\"1\" class=\"dataframe\">\n",
       "  <thead>\n",
       "    <tr style=\"text-align: right;\">\n",
       "      <th></th>\n",
       "      <th>income</th>\n",
       "      <th>age</th>\n",
       "      <th>loan</th>\n",
       "    </tr>\n",
       "  </thead>\n",
       "  <tbody>\n",
       "    <tr>\n",
       "      <th>count</th>\n",
       "      <td>2000.000000</td>\n",
       "      <td>1997.000000</td>\n",
       "      <td>2000.000000</td>\n",
       "    </tr>\n",
       "    <tr>\n",
       "      <th>mean</th>\n",
       "      <td>45331.600018</td>\n",
       "      <td>40.807559</td>\n",
       "      <td>4444.369695</td>\n",
       "    </tr>\n",
       "    <tr>\n",
       "      <th>std</th>\n",
       "      <td>14326.327119</td>\n",
       "      <td>13.624469</td>\n",
       "      <td>3045.410024</td>\n",
       "    </tr>\n",
       "    <tr>\n",
       "      <th>min</th>\n",
       "      <td>20014.489470</td>\n",
       "      <td>-52.423280</td>\n",
       "      <td>1.377630</td>\n",
       "    </tr>\n",
       "    <tr>\n",
       "      <th>25%</th>\n",
       "      <td>32796.459717</td>\n",
       "      <td>28.990415</td>\n",
       "      <td>1939.708847</td>\n",
       "    </tr>\n",
       "    <tr>\n",
       "      <th>50%</th>\n",
       "      <td>45789.117313</td>\n",
       "      <td>41.317159</td>\n",
       "      <td>3974.719419</td>\n",
       "    </tr>\n",
       "    <tr>\n",
       "      <th>75%</th>\n",
       "      <td>57791.281668</td>\n",
       "      <td>52.587040</td>\n",
       "      <td>6432.410625</td>\n",
       "    </tr>\n",
       "    <tr>\n",
       "      <th>max</th>\n",
       "      <td>69995.685578</td>\n",
       "      <td>63.971796</td>\n",
       "      <td>13766.051239</td>\n",
       "    </tr>\n",
       "  </tbody>\n",
       "</table>\n",
       "</div>"
      ],
      "text/plain": [
       "             income          age          loan\n",
       "count   2000.000000  1997.000000   2000.000000\n",
       "mean   45331.600018    40.807559   4444.369695\n",
       "std    14326.327119    13.624469   3045.410024\n",
       "min    20014.489470   -52.423280      1.377630\n",
       "25%    32796.459717    28.990415   1939.708847\n",
       "50%    45789.117313    41.317159   3974.719419\n",
       "75%    57791.281668    52.587040   6432.410625\n",
       "max    69995.685578    63.971796  13766.051239"
      ]
     },
     "execution_count": 7,
     "metadata": {},
     "output_type": "execute_result"
    }
   ],
   "source": [
    "exp_vars.describe()"
   ]
  },
  {
   "cell_type": "markdown",
   "id": "2740c2dc",
   "metadata": {},
   "source": [
    "On remarque que le minimum des âges est -53, ce qui n'est pas logique.  \n",
    "Cherchons maintenant, toutes les lignes contenant un âge négatif."
   ]
  },
  {
   "cell_type": "code",
   "execution_count": 8,
   "id": "32ceca6d",
   "metadata": {},
   "outputs": [
    {
     "data": {
      "text/html": [
       "<div>\n",
       "<style scoped>\n",
       "    .dataframe tbody tr th:only-of-type {\n",
       "        vertical-align: middle;\n",
       "    }\n",
       "\n",
       "    .dataframe tbody tr th {\n",
       "        vertical-align: top;\n",
       "    }\n",
       "\n",
       "    .dataframe thead th {\n",
       "        text-align: right;\n",
       "    }\n",
       "</style>\n",
       "<table border=\"1\" class=\"dataframe\">\n",
       "  <thead>\n",
       "    <tr style=\"text-align: right;\">\n",
       "      <th></th>\n",
       "      <th>income</th>\n",
       "      <th>age</th>\n",
       "      <th>loan</th>\n",
       "    </tr>\n",
       "  </thead>\n",
       "  <tbody>\n",
       "    <tr>\n",
       "      <th>15</th>\n",
       "      <td>50501.726689</td>\n",
       "      <td>-28.218361</td>\n",
       "      <td>3977.287432</td>\n",
       "    </tr>\n",
       "    <tr>\n",
       "      <th>21</th>\n",
       "      <td>32197.620701</td>\n",
       "      <td>-52.423280</td>\n",
       "      <td>4244.057136</td>\n",
       "    </tr>\n",
       "    <tr>\n",
       "      <th>26</th>\n",
       "      <td>63287.038908</td>\n",
       "      <td>-36.496976</td>\n",
       "      <td>9595.286289</td>\n",
       "    </tr>\n",
       "  </tbody>\n",
       "</table>\n",
       "</div>"
      ],
      "text/plain": [
       "          income        age         loan\n",
       "15  50501.726689 -28.218361  3977.287432\n",
       "21  32197.620701 -52.423280  4244.057136\n",
       "26  63287.038908 -36.496976  9595.286289"
      ]
     },
     "execution_count": 8,
     "metadata": {},
     "output_type": "execute_result"
    }
   ],
   "source": [
    "exp_vars[exp_vars['age'] <0 ]"
   ]
  },
  {
   "cell_type": "markdown",
   "id": "ae965025",
   "metadata": {},
   "source": [
    "Nous remarquons que 3 lignes seulement comportent des âges négatifs. Au total, nous avons trouvé 6 lignes qui sont \"erronées\" parmi 2000, ce qui est très faible et ainsi notre modèle sera intact."
   ]
  },
  {
   "cell_type": "markdown",
   "id": "8fa81a09",
   "metadata": {},
   "source": [
    "# Visualisation de la data"
   ]
  },
  {
   "cell_type": "markdown",
   "id": "42c7e92b",
   "metadata": {},
   "source": [
    "### Visualisons notre target d'abord"
   ]
  },
  {
   "cell_type": "code",
   "execution_count": 9,
   "id": "ee58ed5d",
   "metadata": {},
   "outputs": [],
   "source": [
    "#Selection de la colonne default(target)"
   ]
  },
  {
   "cell_type": "code",
   "execution_count": 10,
   "id": "58373423",
   "metadata": {},
   "outputs": [],
   "source": [
    "default = data.default"
   ]
  },
  {
   "cell_type": "code",
   "execution_count": 11,
   "id": "d158bac6",
   "metadata": {},
   "outputs": [
    {
     "data": {
      "text/plain": [
       "<AxesSubplot:title={'center':'Distribution des clients'}, xlabel='Good Client                             Bad Client', ylabel='Fréquence'>"
      ]
     },
     "execution_count": 11,
     "metadata": {},
     "output_type": "execute_result"
    },
    {
     "data": {
      "image/png": "[encoded data removed]",
      "text/plain": [
       "<Figure size 432x288 with 1 Axes>"
      ]
     },
     "metadata": {
      "needs_background": "light"
     },
     "output_type": "display_data"
    }
   ],
   "source": [
    "default.value_counts().plot(kind = 'bar', color = ['g','r'], title = \"Distribution des clients\", xlabel = \"Good Client                             Bad Client\", ylabel = \"Fréquence\")"
   ]
  },
  {
   "cell_type": "code",
   "execution_count": 12,
   "id": "25eb06af",
   "metadata": {},
   "outputs": [
    {
     "data": {
      "text/plain": [
       "0    85.85\n",
       "1    14.15\n",
       "Name: default, dtype: float64"
      ]
     },
     "execution_count": 12,
     "metadata": {},
     "output_type": "execute_result"
    }
   ],
   "source": [
    "#Pourcentage des bons et mauvais clients\n",
    "default.value_counts()*100/2000"
   ]
  },
  {
   "cell_type": "markdown",
   "id": "5f9b247e",
   "metadata": {},
   "source": [
    "Nous remarquons que la distribution est déséquilibrée "
   ]
  },
  {
   "cell_type": "code",
   "execution_count": 13,
   "id": "e31fd855",
   "metadata": {},
   "outputs": [
    {
     "data": {
      "text/plain": [
       "<AxesSubplot:xlabel='default', ylabel='income'>"
      ]
     },
     "execution_count": 13,
     "metadata": {},
     "output_type": "execute_result"
    },
    {
     "data": {
      "image/png": "[encoded data removed]",
      "text/plain": [
       "<Figure size 432x288 with 1 Axes>"
      ]
     },
     "metadata": {
      "needs_background": "light"
     },
     "output_type": "display_data"
    }
   ],
   "source": [
    "sb.boxplot(data=data, x = \"default\", y=\"income\")"
   ]
  },
  {
   "cell_type": "markdown",
   "id": "93889053",
   "metadata": {},
   "source": [
    "Nous observons que les deux boîtes à moustaches sont quasi-similaires dans les deux cas (default=0 et default=1) ce qui nous laisse déduire que la variable 'income' n'est pas forcément la variable la plus significative."
   ]
  },
  {
   "cell_type": "code",
   "execution_count": 14,
   "id": "159b6c30",
   "metadata": {},
   "outputs": [
    {
     "data": {
      "text/plain": [
       "<AxesSubplot:xlabel='default', ylabel='age'>"
      ]
     },
     "execution_count": 14,
     "metadata": {},
     "output_type": "execute_result"
    },
    {
     "data": {
      "image/png": "[encoded data removed]",
      "text/plain": [
       "<Figure size 432x288 with 1 Axes>"
      ]
     },
     "metadata": {
      "needs_background": "light"
     },
     "output_type": "display_data"
    }
   ],
   "source": [
    "sb.boxplot(data=data, x = \"default\", y=\"age\")"
   ]
  },
  {
   "cell_type": "markdown",
   "id": "e4473c24",
   "metadata": {},
   "source": [
    "Contrairement au graphe précédent, nous remarquons qu'il y'a une différence assez visible entre les deux boîtes à moustaches ce qui fait que la variable 'age' est une variable plus significative que la précédente. "
   ]
  },
  {
   "cell_type": "code",
   "execution_count": 15,
   "id": "6804688c",
   "metadata": {},
   "outputs": [
    {
     "data": {
      "text/plain": [
       "<AxesSubplot:xlabel='default', ylabel='loan'>"
      ]
     },
     "execution_count": 15,
     "metadata": {},
     "output_type": "execute_result"
    },
    {
     "data": {
      "image/png": "[encoded data removed]",
      "text/plain": [
       "<Figure size 432x288 with 1 Axes>"
      ]
     },
     "metadata": {
      "needs_background": "light"
     },
     "output_type": "display_data"
    }
   ],
   "source": [
    "sb.boxplot(data=data, x = \"default\", y=\"loan\")"
   ]
  },
  {
   "cell_type": "markdown",
   "id": "ab9f64ae",
   "metadata": {},
   "source": [
    "Pour ce graphe, nous pouvons faire la même remarque que le précédent. Ce qui nous laisse déduire que les variables 'age' et 'loan' sont les variables les plus significatives dans ce modèle."
   ]
  },
  {
   "cell_type": "markdown",
   "id": "67afeba7",
   "metadata": {},
   "source": [
    "### Nous observons que nous avons un problème d'Imbalanced Data, pour y remédier nous optons pour la technique suivante : Synthetic Minority Oversampling Technique mieux connue sous l'abréviation SMOTE. Pour cela nous allons importer la bibliothèque Imbalanced-Learn"
   ]
  },
  {
   "cell_type": "code",
   "execution_count": 16,
   "id": "0e8b6d44",
   "metadata": {},
   "outputs": [],
   "source": [
    "import imblearn as imb"
   ]
  },
  {
   "cell_type": "code",
   "execution_count": 17,
   "id": "b0970dce",
   "metadata": {},
   "outputs": [],
   "source": [
    "from imblearn.over_sampling import SMOTE"
   ]
  },
  {
   "cell_type": "code",
   "execution_count": 18,
   "id": "fe46cce9",
   "metadata": {},
   "outputs": [
    {
     "data": {
      "text/plain": [
       "Counter({0: 1714, 1: 283})"
      ]
     },
     "execution_count": 18,
     "metadata": {},
     "output_type": "execute_result"
    }
   ],
   "source": [
    "from collections import Counter\n",
    "#Pour utiliser la fonction de suréchantillonage notre data ne doit pas contenir de NaN Values\n",
    "data.dropna(inplace=True)\n",
    "X = data.drop([\"clientid\",\"default\"], axis=1)\n",
    "y=data[\"default\"]\n",
    "Counter(y) #Counter nous donne le nombre d'observations de chaque classe\n"
   ]
  },
  {
   "cell_type": "code",
   "execution_count": 19,
   "id": "dbe6b3d8",
   "metadata": {},
   "outputs": [
    {
     "data": {
      "text/html": [
       "<div>\n",
       "<style scoped>\n",
       "    .dataframe tbody tr th:only-of-type {\n",
       "        vertical-align: middle;\n",
       "    }\n",
       "\n",
       "    .dataframe tbody tr th {\n",
       "        vertical-align: top;\n",
       "    }\n",
       "\n",
       "    .dataframe thead th {\n",
       "        text-align: right;\n",
       "    }\n",
       "</style>\n",
       "<table border=\"1\" class=\"dataframe\">\n",
       "  <thead>\n",
       "    <tr style=\"text-align: right;\">\n",
       "      <th></th>\n",
       "      <th>income</th>\n",
       "      <th>age</th>\n",
       "      <th>loan</th>\n",
       "    </tr>\n",
       "  </thead>\n",
       "  <tbody>\n",
       "    <tr>\n",
       "      <th>0</th>\n",
       "      <td>66155.925095</td>\n",
       "      <td>59.017015</td>\n",
       "      <td>8106.532131</td>\n",
       "    </tr>\n",
       "    <tr>\n",
       "      <th>1</th>\n",
       "      <td>34415.153966</td>\n",
       "      <td>48.117153</td>\n",
       "      <td>6564.745018</td>\n",
       "    </tr>\n",
       "    <tr>\n",
       "      <th>2</th>\n",
       "      <td>57317.170063</td>\n",
       "      <td>63.108049</td>\n",
       "      <td>8020.953296</td>\n",
       "    </tr>\n",
       "    <tr>\n",
       "      <th>3</th>\n",
       "      <td>42709.534201</td>\n",
       "      <td>45.751972</td>\n",
       "      <td>6103.642260</td>\n",
       "    </tr>\n",
       "    <tr>\n",
       "      <th>4</th>\n",
       "      <td>66952.688845</td>\n",
       "      <td>18.584336</td>\n",
       "      <td>8770.099235</td>\n",
       "    </tr>\n",
       "    <tr>\n",
       "      <th>...</th>\n",
       "      <td>...</td>\n",
       "      <td>...</td>\n",
       "      <td>...</td>\n",
       "    </tr>\n",
       "    <tr>\n",
       "      <th>3423</th>\n",
       "      <td>38428.831140</td>\n",
       "      <td>28.005487</td>\n",
       "      <td>6255.010704</td>\n",
       "    </tr>\n",
       "    <tr>\n",
       "      <th>3424</th>\n",
       "      <td>62780.663694</td>\n",
       "      <td>27.905665</td>\n",
       "      <td>11503.648282</td>\n",
       "    </tr>\n",
       "    <tr>\n",
       "      <th>3425</th>\n",
       "      <td>69404.990705</td>\n",
       "      <td>26.838981</td>\n",
       "      <td>8697.477642</td>\n",
       "    </tr>\n",
       "    <tr>\n",
       "      <th>3426</th>\n",
       "      <td>58811.602283</td>\n",
       "      <td>29.691870</td>\n",
       "      <td>9472.546980</td>\n",
       "    </tr>\n",
       "    <tr>\n",
       "      <th>3427</th>\n",
       "      <td>44132.372793</td>\n",
       "      <td>24.958465</td>\n",
       "      <td>5768.479972</td>\n",
       "    </tr>\n",
       "  </tbody>\n",
       "</table>\n",
       "<p>3428 rows × 3 columns</p>\n",
       "</div>"
      ],
      "text/plain": [
       "            income        age          loan\n",
       "0     66155.925095  59.017015   8106.532131\n",
       "1     34415.153966  48.117153   6564.745018\n",
       "2     57317.170063  63.108049   8020.953296\n",
       "3     42709.534201  45.751972   6103.642260\n",
       "4     66952.688845  18.584336   8770.099235\n",
       "...            ...        ...           ...\n",
       "3423  38428.831140  28.005487   6255.010704\n",
       "3424  62780.663694  27.905665  11503.648282\n",
       "3425  69404.990705  26.838981   8697.477642\n",
       "3426  58811.602283  29.691870   9472.546980\n",
       "3427  44132.372793  24.958465   5768.479972\n",
       "\n",
       "[3428 rows x 3 columns]"
      ]
     },
     "execution_count": 19,
     "metadata": {},
     "output_type": "execute_result"
    }
   ],
   "source": [
    "oversample = SMOTE()\n",
    "X,y = oversample.fit_resample(X, y)\n",
    "X"
   ]
  },
  {
   "cell_type": "code",
   "execution_count": 20,
   "id": "a7956070",
   "metadata": {},
   "outputs": [
    {
     "data": {
      "text/plain": [
       "Counter({0: 1714, 1: 1714})"
      ]
     },
     "execution_count": 20,
     "metadata": {},
     "output_type": "execute_result"
    }
   ],
   "source": [
    "#On vérifie si le suréchantillonage a bien marché\n",
    "Counter(y)"
   ]
  },
  {
   "cell_type": "code",
   "execution_count": 21,
   "id": "9d65d6b2",
   "metadata": {},
   "outputs": [
    {
     "data": {
      "text/html": [
       "<div>\n",
       "<style scoped>\n",
       "    .dataframe tbody tr th:only-of-type {\n",
       "        vertical-align: middle;\n",
       "    }\n",
       "\n",
       "    .dataframe tbody tr th {\n",
       "        vertical-align: top;\n",
       "    }\n",
       "\n",
       "    .dataframe thead th {\n",
       "        text-align: right;\n",
       "    }\n",
       "</style>\n",
       "<table border=\"1\" class=\"dataframe\">\n",
       "  <thead>\n",
       "    <tr style=\"text-align: right;\">\n",
       "      <th></th>\n",
       "      <th>income</th>\n",
       "      <th>age</th>\n",
       "      <th>loan</th>\n",
       "      <th>default</th>\n",
       "    </tr>\n",
       "  </thead>\n",
       "  <tbody>\n",
       "    <tr>\n",
       "      <th>0</th>\n",
       "      <td>66155.925095</td>\n",
       "      <td>59.017015</td>\n",
       "      <td>8106.532131</td>\n",
       "      <td>0</td>\n",
       "    </tr>\n",
       "    <tr>\n",
       "      <th>1</th>\n",
       "      <td>34415.153966</td>\n",
       "      <td>48.117153</td>\n",
       "      <td>6564.745018</td>\n",
       "      <td>0</td>\n",
       "    </tr>\n",
       "    <tr>\n",
       "      <th>2</th>\n",
       "      <td>57317.170063</td>\n",
       "      <td>63.108049</td>\n",
       "      <td>8020.953296</td>\n",
       "      <td>0</td>\n",
       "    </tr>\n",
       "    <tr>\n",
       "      <th>3</th>\n",
       "      <td>42709.534201</td>\n",
       "      <td>45.751972</td>\n",
       "      <td>6103.642260</td>\n",
       "      <td>0</td>\n",
       "    </tr>\n",
       "    <tr>\n",
       "      <th>4</th>\n",
       "      <td>66952.688845</td>\n",
       "      <td>18.584336</td>\n",
       "      <td>8770.099235</td>\n",
       "      <td>1</td>\n",
       "    </tr>\n",
       "    <tr>\n",
       "      <th>...</th>\n",
       "      <td>...</td>\n",
       "      <td>...</td>\n",
       "      <td>...</td>\n",
       "      <td>...</td>\n",
       "    </tr>\n",
       "    <tr>\n",
       "      <th>3423</th>\n",
       "      <td>38428.831140</td>\n",
       "      <td>28.005487</td>\n",
       "      <td>6255.010704</td>\n",
       "      <td>1</td>\n",
       "    </tr>\n",
       "    <tr>\n",
       "      <th>3424</th>\n",
       "      <td>62780.663694</td>\n",
       "      <td>27.905665</td>\n",
       "      <td>11503.648282</td>\n",
       "      <td>1</td>\n",
       "    </tr>\n",
       "    <tr>\n",
       "      <th>3425</th>\n",
       "      <td>69404.990705</td>\n",
       "      <td>26.838981</td>\n",
       "      <td>8697.477642</td>\n",
       "      <td>1</td>\n",
       "    </tr>\n",
       "    <tr>\n",
       "      <th>3426</th>\n",
       "      <td>58811.602283</td>\n",
       "      <td>29.691870</td>\n",
       "      <td>9472.546980</td>\n",
       "      <td>1</td>\n",
       "    </tr>\n",
       "    <tr>\n",
       "      <th>3427</th>\n",
       "      <td>44132.372793</td>\n",
       "      <td>24.958465</td>\n",
       "      <td>5768.479972</td>\n",
       "      <td>1</td>\n",
       "    </tr>\n",
       "  </tbody>\n",
       "</table>\n",
       "<p>3428 rows × 4 columns</p>\n",
       "</div>"
      ],
      "text/plain": [
       "            income        age          loan  default\n",
       "0     66155.925095  59.017015   8106.532131        0\n",
       "1     34415.153966  48.117153   6564.745018        0\n",
       "2     57317.170063  63.108049   8020.953296        0\n",
       "3     42709.534201  45.751972   6103.642260        0\n",
       "4     66952.688845  18.584336   8770.099235        1\n",
       "...            ...        ...           ...      ...\n",
       "3423  38428.831140  28.005487   6255.010704        1\n",
       "3424  62780.663694  27.905665  11503.648282        1\n",
       "3425  69404.990705  26.838981   8697.477642        1\n",
       "3426  58811.602283  29.691870   9472.546980        1\n",
       "3427  44132.372793  24.958465   5768.479972        1\n",
       "\n",
       "[3428 rows x 4 columns]"
      ]
     },
     "execution_count": 21,
     "metadata": {},
     "output_type": "execute_result"
    }
   ],
   "source": [
    "ndata=pd.concat([X,y],ignore_index=True,axis=1)\n",
    "ndata.columns=['income','age','loan','default']\n",
    "ndata"
   ]
  },
  {
   "cell_type": "markdown",
   "id": "cf520518",
   "metadata": {},
   "source": [
    "### Visualisons notre target d'abord"
   ]
  },
  {
   "cell_type": "code",
   "execution_count": 22,
   "id": "3c943559",
   "metadata": {},
   "outputs": [],
   "source": [
    "#Selection de la colonne default(target)"
   ]
  },
  {
   "cell_type": "code",
   "execution_count": 23,
   "id": "d646705d",
   "metadata": {},
   "outputs": [],
   "source": [
    "default = ndata.default"
   ]
  },
  {
   "cell_type": "code",
   "execution_count": 24,
   "id": "d0b25a70",
   "metadata": {},
   "outputs": [
    {
     "data": {
      "text/plain": [
       "<AxesSubplot:title={'center':'Distribution des clients'}, xlabel='Good Client                             Bad Client', ylabel='Fréquence'>"
      ]
     },
     "execution_count": 24,
     "metadata": {},
     "output_type": "execute_result"
    },
    {
     "data": {
      "image/png": "[encoded data removed]",
      "text/plain": [
       "<Figure size 432x288 with 1 Axes>"
      ]
     },
     "metadata": {
      "needs_background": "light"
     },
     "output_type": "display_data"
    }
   ],
   "source": [
    "default.value_counts().plot(kind = 'bar', color = ['g','r'], title = \"Distribution des clients\", xlabel = \"Good Client                             Bad Client\", ylabel = \"Fréquence\")"
   ]
  },
  {
   "cell_type": "code",
   "execution_count": 25,
   "id": "83a97342",
   "metadata": {},
   "outputs": [
    {
     "data": {
      "text/plain": [
       "0    50.0\n",
       "1    50.0\n",
       "Name: default, dtype: float64"
      ]
     },
     "execution_count": 25,
     "metadata": {},
     "output_type": "execute_result"
    }
   ],
   "source": [
    "#Pourcentage des bons et mauvais clients\n",
    "default.value_counts()*100/3428"
   ]
  },
  {
   "cell_type": "markdown",
   "id": "b6481117",
   "metadata": {},
   "source": [
    "Nous remarquons que la distribution est déséquilibrée "
   ]
  },
  {
   "cell_type": "code",
   "execution_count": 26,
   "id": "d7dcabe3",
   "metadata": {},
   "outputs": [
    {
     "data": {
      "text/plain": [
       "<AxesSubplot:xlabel='default', ylabel='income'>"
      ]
     },
     "execution_count": 26,
     "metadata": {},
     "output_type": "execute_result"
    },
    {
     "data": {
      "image/png": "[encoded data removed]",
      "text/plain": [
       "<Figure size 432x288 with 1 Axes>"
      ]
     },
     "metadata": {
      "needs_background": "light"
     },
     "output_type": "display_data"
    }
   ],
   "source": [
    "sb.boxplot(data=ndata, x = \"default\", y=\"income\")"
   ]
  },
  {
   "cell_type": "markdown",
   "id": "26dfa2b3",
   "metadata": {},
   "source": [
    "Nous observons que les deux boîtes à moustaches sont quasi-similaires dans les deux cas (default=0 et default=1) ce qui nous laisse déduire que la variable 'income' n'est pas forcément la variable la plus significative."
   ]
  },
  {
   "cell_type": "code",
   "execution_count": 27,
   "id": "d5e58071",
   "metadata": {},
   "outputs": [
    {
     "data": {
      "text/plain": [
       "<AxesSubplot:xlabel='default', ylabel='age'>"
      ]
     },
     "execution_count": 27,
     "metadata": {},
     "output_type": "execute_result"
    },
    {
     "data": {
      "image/png": "[encoded data removed]",
      "text/plain": [
       "<Figure size 432x288 with 1 Axes>"
      ]
     },
     "metadata": {
      "needs_background": "light"
     },
     "output_type": "display_data"
    }
   ],
   "source": [
    "sb.boxplot(data=ndata, x = \"default\", y=\"age\")"
   ]
  },
  {
   "cell_type": "markdown",
   "id": "5a838231",
   "metadata": {},
   "source": [
    "Contrairement au graphe précédent, nous remarquons qu'il y'a une différence assez visible entre les deux boîtes à moustaches ce qui fait que la variable 'age' est une variable plus significative que la précédente. "
   ]
  },
  {
   "cell_type": "code",
   "execution_count": 28,
   "id": "e3ec7a85",
   "metadata": {},
   "outputs": [
    {
     "data": {
      "text/plain": [
       "<AxesSubplot:xlabel='default', ylabel='loan'>"
      ]
     },
     "execution_count": 28,
     "metadata": {},
     "output_type": "execute_result"
    },
    {
     "data": {
      "image/png": "[encoded data removed]",
      "text/plain": [
       "<Figure size 432x288 with 1 Axes>"
      ]
     },
     "metadata": {
      "needs_background": "light"
     },
     "output_type": "display_data"
    }
   ],
   "source": [
    "sb.boxplot(data=ndata, x = \"default\", y=\"loan\")"
   ]
  },
  {
   "cell_type": "markdown",
   "id": "fa955e07",
   "metadata": {},
   "source": [
    "Pour ce graphe, nous pouvons faire la même remarque que le précédent. Ce qui nous laisse déduire que les variables 'age' et 'loan' sont les variables les plus significatives dans ce modèle."
   ]
  },
  {
   "cell_type": "markdown",
   "id": "62a41ad0",
   "metadata": {},
   "source": [
    "### Après avoir résolu le problème d'Imbalanced Data grâce au SMOTE, nous allons maintenant attaquer la partie dans laquelle nous allons importer notre modèle, l'entraîner, vérifier sa précision ensuite prédire quelques valeurs."
   ]
  },
  {
   "cell_type": "code",
   "execution_count": 29,
   "id": "7a3c3423",
   "metadata": {},
   "outputs": [],
   "source": [
    "from sklearn.linear_model import LogisticRegression\n",
    "from sklearn.model_selection import train_test_split\n",
    "from sklearn.metrics import confusion_matrix, classification_report"
   ]
  },
  {
   "cell_type": "code",
   "execution_count": 30,
   "id": "8aac20fe",
   "metadata": {},
   "outputs": [],
   "source": [
    "#Ici nous divisons notre data sur une base d'apprentissage(80%) et une base d'entraînement (20%)\n",
    "X_train, X_test, y_train, y_test = train_test_split(X, y, train_size=0.8, random_state=42)"
   ]
  },
  {
   "cell_type": "code",
   "execution_count": 31,
   "id": "b3bee794",
   "metadata": {},
   "outputs": [
    {
     "data": {
      "text/plain": [
       "LogisticRegression(max_iter=1000, random_state=37)"
      ]
     },
     "execution_count": 31,
     "metadata": {},
     "output_type": "execute_result"
    }
   ],
   "source": [
    "#On crée le modèle:\n",
    "model = LogisticRegression(random_state = 37, max_iter=1000)\n",
    "#On entraîne le modèle:\n",
    "model.fit(X_train, y_train)"
   ]
  },
  {
   "cell_type": "code",
   "execution_count": 32,
   "id": "60bfb253",
   "metadata": {},
   "outputs": [
    {
     "name": "stdout",
     "output_type": "stream",
     "text": [
      "La précision du modèle est de :  85.27696793002916 %\n"
     ]
    }
   ],
   "source": [
    "print(\"La précision du modèle est de : \", model.score(X_test, y_test)*100,\"%\")"
   ]
  },
  {
   "cell_type": "markdown",
   "id": "caa2bbd3",
   "metadata": {},
   "source": [
    "Nous observons que nous avons une bonne précision qui est proche de la réalité."
   ]
  },
  {
   "cell_type": "markdown",
   "id": "49320f3e",
   "metadata": {},
   "source": [
    "Essayons maintenant de prédire quelques valeurs de 'default' qui est notre target"
   ]
  },
  {
   "cell_type": "code",
   "execution_count": 33,
   "id": "f9950030",
   "metadata": {},
   "outputs": [
    {
     "data": {
      "text/plain": [
       "array([1], dtype=int64)"
      ]
     },
     "execution_count": 33,
     "metadata": {},
     "output_type": "execute_result"
    }
   ],
   "source": [
    "p = np.array([[15000,26,5000]])\n",
    "model.predict(p)"
   ]
  },
  {
   "cell_type": "code",
   "execution_count": 34,
   "id": "3b7830cd",
   "metadata": {},
   "outputs": [],
   "source": [
    "cm=confusion_matrix(y_train, model.predict(X_train))"
   ]
  },
  {
   "cell_type": "code",
   "execution_count": 35,
   "id": "66ae2b27",
   "metadata": {},
   "outputs": [
    {
     "data": {
      "text/plain": [
       "<AxesSubplot:>"
      ]
     },
     "execution_count": 35,
     "metadata": {},
     "output_type": "execute_result"
    },
    {
     "data": {
      "image/png": "[encoded data removed]",
      "text/plain": [
       "<Figure size 432x288 with 2 Axes>"
      ]
     },
     "metadata": {
      "needs_background": "light"
     },
     "output_type": "display_data"
    }
   ],
   "source": [
    "sb.heatmap(cm, annot=True)"
   ]
  },
  {
   "cell_type": "code",
   "execution_count": 36,
   "id": "37923079",
   "metadata": {},
   "outputs": [
    {
     "data": {
      "text/plain": [
       "<AxesSubplot:>"
      ]
     },
     "execution_count": 36,
     "metadata": {},
     "output_type": "execute_result"
    },
    {
     "data": {
      "image/png": "[encoded data removed]",
      "text/plain": [
       "<Figure size 432x288 with 2 Axes>"
      ]
     },
     "metadata": {
      "needs_background": "light"
     },
     "output_type": "display_data"
    }
   ],
   "source": [
    "group_names = [\"True Neg\",\"False Pos\",\"False Neg\",\"True Pos\"]\n",
    "group_counts = [\"{0:0.0f}\".format(value) for value in cm.flatten()]\n",
    "group_percentages = [\"{0:.2%}\".format(value) for value in cm.flatten()/np.sum(cm)]\n",
    "labels = [f\"{v1}\\n{v2}\\n{v3}\" for v1, v2, v3 in\n",
    "zip(group_names,group_counts,group_percentages)]\n",
    "labels = np.asarray(labels).reshape(2,2)\n",
    "sb.heatmap(cm, annot=labels, fmt=\"\", cmap='Blues')"
   ]
  },
  {
   "cell_type": "code",
   "execution_count": 37,
   "id": "4318c3e6",
   "metadata": {},
   "outputs": [
    {
     "data": {
      "text/plain": [
       "2742"
      ]
     },
     "execution_count": 37,
     "metadata": {},
     "output_type": "execute_result"
    }
   ],
   "source": [
    "len(model.predict(X_train))"
   ]
  },
  {
   "cell_type": "code",
   "execution_count": 38,
   "id": "48bd6276",
   "metadata": {},
   "outputs": [
    {
     "name": "stdout",
     "output_type": "stream",
     "text": [
      "              precision    recall  f1-score   support\n",
      "\n",
      "           0       0.85      0.89      0.87      1359\n",
      "           1       0.89      0.84      0.86      1383\n",
      "\n",
      "    accuracy                           0.87      2742\n",
      "   macro avg       0.87      0.87      0.87      2742\n",
      "weighted avg       0.87      0.87      0.87      2742\n",
      "\n"
     ]
    }
   ],
   "source": [
    "print(classification_report(y_train, model.predict(X_train)))"
   ]
  },
  {
   "cell_type": "code",
   "execution_count": null,
   "id": "ce026240",
   "metadata": {},
   "outputs": [],
   "source": []
  }
 ],
 "metadata": {
  "kernelspec": {
   "display_name": "Python 3 (ipykernel)",
   "language": "python",
   "name": "python3"
  },
  "language_info": {
   "codemirror_mode": {
    "name": "ipython",
    "version": 3
   },
   "file_extension": ".py",
   "mimetype": "text/x-python",
   "name": "python",
   "nbconvert_exporter": "python",
   "pygments_lexer": "ipython3",
   "version": "3.9.7"
  }
 },
 "nbformat": 4,
 "nbformat_minor": 5
}
