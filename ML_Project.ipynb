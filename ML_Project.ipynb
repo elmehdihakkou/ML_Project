{
 "cells": [
  {
   "cell_type": "markdown",
   "id": "b65708da",
   "metadata": {},
   "source": [
    "### Importation des bibliothèques pour explorer les données:"
   ]
  },
  {
   "cell_type": "code",
   "execution_count": 3,
   "id": "0d0dae0c",
   "metadata": {},
   "outputs": [],
   "source": [
    "import numpy as np\n",
    "import pandas as pd\n",
    "import seaborn as sb\n",
    "import matplotlib.pyplot as plt"
   ]
  },
  {
   "cell_type": "markdown",
   "id": "64847142",
   "metadata": {},
   "source": [
    "### Lecture du dataset dans la variable data"
   ]
  },
  {
   "cell_type": "code",
   "execution_count": 4,
   "id": "6735831c",
   "metadata": {},
   "outputs": [],
   "source": [
    "data = pd.read_csv(\"data/original.csv\")"
   ]
  },
  {
   "cell_type": "markdown",
   "id": "7ca669e3",
   "metadata": {},
   "source": [
    "### Affichage du dataset"
   ]
  },
  {
   "cell_type": "code",
   "execution_count": 5,
   "id": "259002d0",
   "metadata": {},
   "outputs": [
    {
     "data": {
      "text/html": [
       "<div>\n",
       "<style scoped>\n",
       "    .dataframe tbody tr th:only-of-type {\n",
       "        vertical-align: middle;\n",
       "    }\n",
       "\n",
       "    .dataframe tbody tr th {\n",
       "        vertical-align: top;\n",
       "    }\n",
       "\n",
       "    .dataframe thead th {\n",
       "        text-align: right;\n",
       "    }\n",
       "</style>\n",
       "<table border=\"1\" class=\"dataframe\">\n",
       "  <thead>\n",
       "    <tr style=\"text-align: right;\">\n",
       "      <th></th>\n",
       "      <th>clientid</th>\n",
       "      <th>income</th>\n",
       "      <th>age</th>\n",
       "      <th>loan</th>\n",
       "      <th>default</th>\n",
       "    </tr>\n",
       "  </thead>\n",
       "  <tbody>\n",
       "    <tr>\n",
       "      <th>0</th>\n",
       "      <td>1</td>\n",
       "      <td>66155.925095</td>\n",
       "      <td>59.017015</td>\n",
       "      <td>8106.532131</td>\n",
       "      <td>0</td>\n",
       "    </tr>\n",
       "    <tr>\n",
       "      <th>1</th>\n",
       "      <td>2</td>\n",
       "      <td>34415.153966</td>\n",
       "      <td>48.117153</td>\n",
       "      <td>6564.745018</td>\n",
       "      <td>0</td>\n",
       "    </tr>\n",
       "    <tr>\n",
       "      <th>2</th>\n",
       "      <td>3</td>\n",
       "      <td>57317.170063</td>\n",
       "      <td>63.108049</td>\n",
       "      <td>8020.953296</td>\n",
       "      <td>0</td>\n",
       "    </tr>\n",
       "    <tr>\n",
       "      <th>3</th>\n",
       "      <td>4</td>\n",
       "      <td>42709.534201</td>\n",
       "      <td>45.751972</td>\n",
       "      <td>6103.642260</td>\n",
       "      <td>0</td>\n",
       "    </tr>\n",
       "    <tr>\n",
       "      <th>4</th>\n",
       "      <td>5</td>\n",
       "      <td>66952.688845</td>\n",
       "      <td>18.584336</td>\n",
       "      <td>8770.099235</td>\n",
       "      <td>1</td>\n",
       "    </tr>\n",
       "    <tr>\n",
       "      <th>...</th>\n",
       "      <td>...</td>\n",
       "      <td>...</td>\n",
       "      <td>...</td>\n",
       "      <td>...</td>\n",
       "      <td>...</td>\n",
       "    </tr>\n",
       "    <tr>\n",
       "      <th>1995</th>\n",
       "      <td>1996</td>\n",
       "      <td>59221.044874</td>\n",
       "      <td>48.518179</td>\n",
       "      <td>1926.729397</td>\n",
       "      <td>0</td>\n",
       "    </tr>\n",
       "    <tr>\n",
       "      <th>1996</th>\n",
       "      <td>1997</td>\n",
       "      <td>69516.127573</td>\n",
       "      <td>23.162104</td>\n",
       "      <td>3503.176156</td>\n",
       "      <td>0</td>\n",
       "    </tr>\n",
       "    <tr>\n",
       "      <th>1997</th>\n",
       "      <td>1998</td>\n",
       "      <td>44311.449262</td>\n",
       "      <td>28.017167</td>\n",
       "      <td>5522.786693</td>\n",
       "      <td>1</td>\n",
       "    </tr>\n",
       "    <tr>\n",
       "      <th>1998</th>\n",
       "      <td>1999</td>\n",
       "      <td>43756.056605</td>\n",
       "      <td>63.971796</td>\n",
       "      <td>1622.722598</td>\n",
       "      <td>0</td>\n",
       "    </tr>\n",
       "    <tr>\n",
       "      <th>1999</th>\n",
       "      <td>2000</td>\n",
       "      <td>69436.579552</td>\n",
       "      <td>56.152617</td>\n",
       "      <td>7378.833599</td>\n",
       "      <td>0</td>\n",
       "    </tr>\n",
       "  </tbody>\n",
       "</table>\n",
       "<p>2000 rows × 5 columns</p>\n",
       "</div>"
      ],
      "text/plain": [
       "      clientid        income        age         loan  default\n",
       "0            1  66155.925095  59.017015  8106.532131        0\n",
       "1            2  34415.153966  48.117153  6564.745018        0\n",
       "2            3  57317.170063  63.108049  8020.953296        0\n",
       "3            4  42709.534201  45.751972  6103.642260        0\n",
       "4            5  66952.688845  18.584336  8770.099235        1\n",
       "...        ...           ...        ...          ...      ...\n",
       "1995      1996  59221.044874  48.518179  1926.729397        0\n",
       "1996      1997  69516.127573  23.162104  3503.176156        0\n",
       "1997      1998  44311.449262  28.017167  5522.786693        1\n",
       "1998      1999  43756.056605  63.971796  1622.722598        0\n",
       "1999      2000  69436.579552  56.152617  7378.833599        0\n",
       "\n",
       "[2000 rows x 5 columns]"
      ]
     },
     "execution_count": 5,
     "metadata": {},
     "output_type": "execute_result"
    }
   ],
   "source": [
    "data"
   ]
  },
  {
   "cell_type": "markdown",
   "id": "1cddf1e1",
   "metadata": {},
   "source": [
    "### Quelques informations sur le dataset\n"
   ]
  },
  {
   "cell_type": "code",
   "execution_count": 6,
   "id": "b024b526",
   "metadata": {},
   "outputs": [
    {
     "name": "stdout",
     "output_type": "stream",
     "text": [
      "<class 'pandas.core.frame.DataFrame'>\n",
      "RangeIndex: 2000 entries, 0 to 1999\n",
      "Data columns (total 5 columns):\n",
      " #   Column    Non-Null Count  Dtype  \n",
      "---  ------    --------------  -----  \n",
      " 0   clientid  2000 non-null   int64  \n",
      " 1   income    2000 non-null   float64\n",
      " 2   age       1997 non-null   float64\n",
      " 3   loan      2000 non-null   float64\n",
      " 4   default   2000 non-null   int64  \n",
      "dtypes: float64(3), int64(2)\n",
      "memory usage: 78.2 KB\n"
     ]
    }
   ],
   "source": [
    "data.info()"
   ]
  },
  {
   "cell_type": "markdown",
   "id": "b05284a7",
   "metadata": {},
   "source": [
    "Nous observons que toutes les colonnes ne comportent pas de données manquantes sauf la colonne \"age\" qui contient 3 valeurs nullles. Nous allons ces lignes qui contiennent ces valeurs nulles étant donné qu'elles ne représentent que 0,0015% de notre dataset, ainsi elles n'auront pas d'impact sur notre modèle."
   ]
  },
  {
   "cell_type": "markdown",
   "id": "408850dc",
   "metadata": {},
   "source": [
    "La variable qui nous intéresse (en d'autres termes notre \"target\") est la variable default qui montre si l'individu est un bon client (default=0) ou pas (default=1)."
   ]
  },
  {
   "cell_type": "markdown",
   "id": "fd29fdf9",
   "metadata": {},
   "source": [
    "### Limitons-nous maintenant aux variables explicatives seulement"
   ]
  },
  {
   "cell_type": "code",
   "execution_count": 7,
   "id": "670a2ba6",
   "metadata": {},
   "outputs": [],
   "source": [
    "exp_vars = data[['income','age','loan']]"
   ]
  },
  {
   "cell_type": "code",
   "execution_count": 8,
   "id": "162234c2",
   "metadata": {},
   "outputs": [
    {
     "data": {
      "text/html": [
       "<div>\n",
       "<style scoped>\n",
       "    .dataframe tbody tr th:only-of-type {\n",
       "        vertical-align: middle;\n",
       "    }\n",
       "\n",
       "    .dataframe tbody tr th {\n",
       "        vertical-align: top;\n",
       "    }\n",
       "\n",
       "    .dataframe thead th {\n",
       "        text-align: right;\n",
       "    }\n",
       "</style>\n",
       "<table border=\"1\" class=\"dataframe\">\n",
       "  <thead>\n",
       "    <tr style=\"text-align: right;\">\n",
       "      <th></th>\n",
       "      <th>income</th>\n",
       "      <th>age</th>\n",
       "      <th>loan</th>\n",
       "    </tr>\n",
       "  </thead>\n",
       "  <tbody>\n",
       "    <tr>\n",
       "      <th>0</th>\n",
       "      <td>66155.925095</td>\n",
       "      <td>59.017015</td>\n",
       "      <td>8106.532131</td>\n",
       "    </tr>\n",
       "    <tr>\n",
       "      <th>1</th>\n",
       "      <td>34415.153966</td>\n",
       "      <td>48.117153</td>\n",
       "      <td>6564.745018</td>\n",
       "    </tr>\n",
       "    <tr>\n",
       "      <th>2</th>\n",
       "      <td>57317.170063</td>\n",
       "      <td>63.108049</td>\n",
       "      <td>8020.953296</td>\n",
       "    </tr>\n",
       "    <tr>\n",
       "      <th>3</th>\n",
       "      <td>42709.534201</td>\n",
       "      <td>45.751972</td>\n",
       "      <td>6103.642260</td>\n",
       "    </tr>\n",
       "    <tr>\n",
       "      <th>4</th>\n",
       "      <td>66952.688845</td>\n",
       "      <td>18.584336</td>\n",
       "      <td>8770.099235</td>\n",
       "    </tr>\n",
       "    <tr>\n",
       "      <th>...</th>\n",
       "      <td>...</td>\n",
       "      <td>...</td>\n",
       "      <td>...</td>\n",
       "    </tr>\n",
       "    <tr>\n",
       "      <th>1995</th>\n",
       "      <td>59221.044874</td>\n",
       "      <td>48.518179</td>\n",
       "      <td>1926.729397</td>\n",
       "    </tr>\n",
       "    <tr>\n",
       "      <th>1996</th>\n",
       "      <td>69516.127573</td>\n",
       "      <td>23.162104</td>\n",
       "      <td>3503.176156</td>\n",
       "    </tr>\n",
       "    <tr>\n",
       "      <th>1997</th>\n",
       "      <td>44311.449262</td>\n",
       "      <td>28.017167</td>\n",
       "      <td>5522.786693</td>\n",
       "    </tr>\n",
       "    <tr>\n",
       "      <th>1998</th>\n",
       "      <td>43756.056605</td>\n",
       "      <td>63.971796</td>\n",
       "      <td>1622.722598</td>\n",
       "    </tr>\n",
       "    <tr>\n",
       "      <th>1999</th>\n",
       "      <td>69436.579552</td>\n",
       "      <td>56.152617</td>\n",
       "      <td>7378.833599</td>\n",
       "    </tr>\n",
       "  </tbody>\n",
       "</table>\n",
       "<p>2000 rows × 3 columns</p>\n",
       "</div>"
      ],
      "text/plain": [
       "            income        age         loan\n",
       "0     66155.925095  59.017015  8106.532131\n",
       "1     34415.153966  48.117153  6564.745018\n",
       "2     57317.170063  63.108049  8020.953296\n",
       "3     42709.534201  45.751972  6103.642260\n",
       "4     66952.688845  18.584336  8770.099235\n",
       "...            ...        ...          ...\n",
       "1995  59221.044874  48.518179  1926.729397\n",
       "1996  69516.127573  23.162104  3503.176156\n",
       "1997  44311.449262  28.017167  5522.786693\n",
       "1998  43756.056605  63.971796  1622.722598\n",
       "1999  69436.579552  56.152617  7378.833599\n",
       "\n",
       "[2000 rows x 3 columns]"
      ]
     },
     "execution_count": 8,
     "metadata": {},
     "output_type": "execute_result"
    }
   ],
   "source": [
    "exp_vars"
   ]
  },
  {
   "cell_type": "markdown",
   "id": "0d0847ef",
   "metadata": {},
   "source": [
    "### Détails sur le dataset contenant les variables explicatives"
   ]
  },
  {
   "cell_type": "code",
   "execution_count": 9,
   "id": "0f31d197",
   "metadata": {},
   "outputs": [
    {
     "data": {
      "text/html": [
       "<div>\n",
       "<style scoped>\n",
       "    .dataframe tbody tr th:only-of-type {\n",
       "        vertical-align: middle;\n",
       "    }\n",
       "\n",
       "    .dataframe tbody tr th {\n",
       "        vertical-align: top;\n",
       "    }\n",
       "\n",
       "    .dataframe thead th {\n",
       "        text-align: right;\n",
       "    }\n",
       "</style>\n",
       "<table border=\"1\" class=\"dataframe\">\n",
       "  <thead>\n",
       "    <tr style=\"text-align: right;\">\n",
       "      <th></th>\n",
       "      <th>income</th>\n",
       "      <th>age</th>\n",
       "      <th>loan</th>\n",
       "    </tr>\n",
       "  </thead>\n",
       "  <tbody>\n",
       "    <tr>\n",
       "      <th>count</th>\n",
       "      <td>2000.000000</td>\n",
       "      <td>1997.000000</td>\n",
       "      <td>2000.000000</td>\n",
       "    </tr>\n",
       "    <tr>\n",
       "      <th>mean</th>\n",
       "      <td>45331.600018</td>\n",
       "      <td>40.807559</td>\n",
       "      <td>4444.369695</td>\n",
       "    </tr>\n",
       "    <tr>\n",
       "      <th>std</th>\n",
       "      <td>14326.327119</td>\n",
       "      <td>13.624469</td>\n",
       "      <td>3045.410024</td>\n",
       "    </tr>\n",
       "    <tr>\n",
       "      <th>min</th>\n",
       "      <td>20014.489470</td>\n",
       "      <td>-52.423280</td>\n",
       "      <td>1.377630</td>\n",
       "    </tr>\n",
       "    <tr>\n",
       "      <th>25%</th>\n",
       "      <td>32796.459717</td>\n",
       "      <td>28.990415</td>\n",
       "      <td>1939.708847</td>\n",
       "    </tr>\n",
       "    <tr>\n",
       "      <th>50%</th>\n",
       "      <td>45789.117313</td>\n",
       "      <td>41.317159</td>\n",
       "      <td>3974.719419</td>\n",
       "    </tr>\n",
       "    <tr>\n",
       "      <th>75%</th>\n",
       "      <td>57791.281668</td>\n",
       "      <td>52.587040</td>\n",
       "      <td>6432.410625</td>\n",
       "    </tr>\n",
       "    <tr>\n",
       "      <th>max</th>\n",
       "      <td>69995.685578</td>\n",
       "      <td>63.971796</td>\n",
       "      <td>13766.051239</td>\n",
       "    </tr>\n",
       "  </tbody>\n",
       "</table>\n",
       "</div>"
      ],
      "text/plain": [
       "             income          age          loan\n",
       "count   2000.000000  1997.000000   2000.000000\n",
       "mean   45331.600018    40.807559   4444.369695\n",
       "std    14326.327119    13.624469   3045.410024\n",
       "min    20014.489470   -52.423280      1.377630\n",
       "25%    32796.459717    28.990415   1939.708847\n",
       "50%    45789.117313    41.317159   3974.719419\n",
       "75%    57791.281668    52.587040   6432.410625\n",
       "max    69995.685578    63.971796  13766.051239"
      ]
     },
     "execution_count": 9,
     "metadata": {},
     "output_type": "execute_result"
    }
   ],
   "source": [
    "exp_vars.describe()"
   ]
  },
  {
   "cell_type": "markdown",
   "id": "654267cd",
   "metadata": {},
   "source": [
    "On remarque que le minimum des âges est -53, ce qui n'est pas logique.  \n",
    "Cherchons maintenant, toutes les lignes contenant un âge négatif."
   ]
  },
  {
   "cell_type": "code",
   "execution_count": 10,
   "id": "9816a0c4",
   "metadata": {},
   "outputs": [
    {
     "data": {
      "text/html": [
       "<div>\n",
       "<style scoped>\n",
       "    .dataframe tbody tr th:only-of-type {\n",
       "        vertical-align: middle;\n",
       "    }\n",
       "\n",
       "    .dataframe tbody tr th {\n",
       "        vertical-align: top;\n",
       "    }\n",
       "\n",
       "    .dataframe thead th {\n",
       "        text-align: right;\n",
       "    }\n",
       "</style>\n",
       "<table border=\"1\" class=\"dataframe\">\n",
       "  <thead>\n",
       "    <tr style=\"text-align: right;\">\n",
       "      <th></th>\n",
       "      <th>income</th>\n",
       "      <th>age</th>\n",
       "      <th>loan</th>\n",
       "    </tr>\n",
       "  </thead>\n",
       "  <tbody>\n",
       "    <tr>\n",
       "      <th>15</th>\n",
       "      <td>50501.726689</td>\n",
       "      <td>-28.218361</td>\n",
       "      <td>3977.287432</td>\n",
       "    </tr>\n",
       "    <tr>\n",
       "      <th>21</th>\n",
       "      <td>32197.620701</td>\n",
       "      <td>-52.423280</td>\n",
       "      <td>4244.057136</td>\n",
       "    </tr>\n",
       "    <tr>\n",
       "      <th>26</th>\n",
       "      <td>63287.038908</td>\n",
       "      <td>-36.496976</td>\n",
       "      <td>9595.286289</td>\n",
       "    </tr>\n",
       "  </tbody>\n",
       "</table>\n",
       "</div>"
      ],
      "text/plain": [
       "          income        age         loan\n",
       "15  50501.726689 -28.218361  3977.287432\n",
       "21  32197.620701 -52.423280  4244.057136\n",
       "26  63287.038908 -36.496976  9595.286289"
      ]
     },
     "execution_count": 10,
     "metadata": {},
     "output_type": "execute_result"
    }
   ],
   "source": [
    "exp_vars[exp_vars['age'] <0 ]"
   ]
  },
  {
   "cell_type": "markdown",
   "id": "12ca056f",
   "metadata": {},
   "source": [
    "Nous remarquons que 3 lignes seulement comportent des âges négatifs. Au total, nous avons trouvé 6 lignes qui sont \"erronées\" parmi 2000, ce qui est très faible et ainsi notre modèle sera intact."
   ]
  },
  {
   "cell_type": "markdown",
   "id": "f7f2f3c4",
   "metadata": {},
   "source": [
    "# Visualisation de la data"
   ]
  },
  {
   "cell_type": "markdown",
   "id": "e529e9c6",
   "metadata": {},
   "source": [
    "### Visualisons notre target d'abord"
   ]
  },
  {
   "cell_type": "code",
   "execution_count": 11,
   "id": "b6a38d3b",
   "metadata": {},
   "outputs": [],
   "source": [
    "#Selection de la colonne default(target)"
   ]
  },
  {
   "cell_type": "code",
   "execution_count": 12,
   "id": "6d1cb1fb",
   "metadata": {},
   "outputs": [],
   "source": [
    "default = data.default"
   ]
  },
  {
   "cell_type": "code",
   "execution_count": 13,
   "id": "1b14e991",
   "metadata": {},
   "outputs": [
    {
     "data": {
      "text/plain": [
       "<AxesSubplot:title={'center':'Distribution des clients'}, xlabel='Good Client                             Bad Client', ylabel='Fréquence'>"
      ]
     },
     "execution_count": 13,
     "metadata": {},
     "output_type": "execute_result"
    },
    {
     "data": {
      "image/png": "[encoded data removed]",
      "text/plain": [
       "<Figure size 432x288 with 1 Axes>"
      ]
     },
     "metadata": {
      "needs_background": "light"
     },
     "output_type": "display_data"
    }
   ],
   "source": [
    "default.value_counts().plot(kind = 'bar', color = ['g','r'], title = \"Distribution des clients\", xlabel = \"Good Client                             Bad Client\", ylabel = \"Fréquence\")"
   ]
  },
  {
   "cell_type": "code",
   "execution_count": 19,
   "id": "d431acf1",
   "metadata": {},
   "outputs": [
    {
     "data": {
      "text/plain": [
       "0    85.85\n",
       "1    14.15\n",
       "Name: default, dtype: float64"
      ]
     },
     "execution_count": 19,
     "metadata": {},
     "output_type": "execute_result"
    }
   ],
   "source": [
    "#Pourcentage des bons et mauvais clients\n",
    "default.value_counts()*100/2000"
   ]
  },
  {
   "cell_type": "markdown",
   "id": "530e3432",
   "metadata": {},
   "source": [
    "Nous remarquons que la distribution est déséquilibrée "
   ]
  },
  {
   "cell_type": "code",
   "execution_count": 15,
   "id": "b8c6b9bd",
   "metadata": {},
   "outputs": [
    {
     "data": {
      "text/plain": [
       "<AxesSubplot:xlabel='default', ylabel='income'>"
      ]
     },
     "execution_count": 15,
     "metadata": {},
     "output_type": "execute_result"
    },
    {
     "data": {
      "image/png": "[encoded data removed]",
      "text/plain": [
       "<Figure size 432x288 with 1 Axes>"
      ]
     },
     "metadata": {
      "needs_background": "light"
     },
     "output_type": "display_data"
    }
   ],
   "source": [
    "sb.boxplot(data=data, x = \"default\", y=\"income\")"
   ]
  },
  {
   "cell_type": "markdown",
   "id": "c2aa8659",
   "metadata": {},
   "source": [
    "Nous observons que les deux boîtes à moustaches sont quasi-similaires dans les deux cas (default=0 et default=1) ce qui nous laisse déduire que la variable 'income' n'est pas forcément la variable la plus significative."
   ]
  },
  {
   "cell_type": "code",
   "execution_count": 16,
   "id": "9d3142c8",
   "metadata": {},
   "outputs": [
    {
     "data": {
      "text/plain": [
       "<AxesSubplot:xlabel='default', ylabel='age'>"
      ]
     },
     "execution_count": 16,
     "metadata": {},
     "output_type": "execute_result"
    },
    {
     "data": {
      "image/png": "[encoded data removed]",
      "text/plain": [
       "<Figure size 432x288 with 1 Axes>"
      ]
     },
     "metadata": {
      "needs_background": "light"
     },
     "output_type": "display_data"
    }
   ],
   "source": [
    "sb.boxplot(data=data, x = \"default\", y=\"age\")"
   ]
  },
  {
   "cell_type": "markdown",
   "id": "c99cf658",
   "metadata": {},
   "source": [
    "Contrairement au graphe précédent, nous remarquons qu'il y'a une différence assez visible entre les deux boîtes à moustaches ce qui fait que la variable 'age' est une variable plus significative que la précédente. "
   ]
  },
  {
   "cell_type": "code",
   "execution_count": 17,
   "id": "a526b2e8",
   "metadata": {},
   "outputs": [
    {
     "data": {
      "text/plain": [
       "<AxesSubplot:xlabel='default', ylabel='loan'>"
      ]
     },
     "execution_count": 17,
     "metadata": {},
     "output_type": "execute_result"
    },
    {
     "data": {
      "image/png": "[encoded data removed]",
      "text/plain": [
       "<Figure size 432x288 with 1 Axes>"
      ]
     },
     "metadata": {
      "needs_background": "light"
     },
     "output_type": "display_data"
    }
   ],
   "source": [
    "sb.boxplot(data=data, x = \"default\", y=\"loan\")"
   ]
  },
  {
   "cell_type": "markdown",
   "id": "3db2ba8c",
   "metadata": {},
   "source": [
    "Pour ce graphe, nous pouvons faire la même remarque que le précédent. Ce qui nous laisse déduire que les variables 'age' et 'loan' sont les variables les plus significatives dans ce modèle."
   ]
  },
  {
   "cell_type": "code",
   "execution_count": null,
   "id": "d8b2006c",
   "metadata": {},
   "outputs": [],
   "source": []
  },
  {
   "cell_type": "code",
   "execution_count": null,
   "id": "7f98c3e2",
   "metadata": {},
   "outputs": [],
   "source": []
  },
  {
   "cell_type": "code",
   "execution_count": null,
   "id": "344d703b",
   "metadata": {},
   "outputs": [],
   "source": []
  }
 ],
 "metadata": {
  "kernelspec": {
   "display_name": "Python 3 (ipykernel)",
   "language": "python",
   "name": "python3"
  },
  "language_info": {
   "codemirror_mode": {
    "name": "ipython",
    "version": 3
   },
   "file_extension": ".py",
   "mimetype": "text/x-python",
   "name": "python",
   "nbconvert_exporter": "python",
   "pygments_lexer": "ipython3",
   "version": "3.9.7"
  }
 },
 "nbformat": 4,
 "nbformat_minor": 5
}
